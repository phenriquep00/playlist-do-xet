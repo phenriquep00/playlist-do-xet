{
 "cells": [
  {
   "cell_type": "code",
   "execution_count": 1,
   "metadata": {},
   "outputs": [],
   "source": [
    "# Import the necessary libraries\n",
    "\n",
    "# %pip install pandas\n",
    "# %pip install sqlalchemy\n",
    "# %pip install dotenv\n",
    "import pandas as pd\n",
    "import seaborn as sns\n",
    "import matplotlib.pyplot as plt\n",
    "import matplotlib.colors as mcolors\n",
    "from sqlalchemy import create_engine\n",
    "from dotenv import load_dotenv\n",
    "\n",
    "import os"
   ]
  },
  {
   "cell_type": "code",
   "execution_count": 2,
   "metadata": {},
   "outputs": [],
   "source": [
    "# Establish a connection to the database\n",
    "\n",
    "load_dotenv()\n",
    "db_url = os.getenv(\"DB_URL\")\n",
    "engine = create_engine(db_url)"
   ]
  },
  {
   "cell_type": "code",
   "execution_count": 3,
   "metadata": {},
   "outputs": [],
   "source": [
    "# Use SQL queries to retrieve user-related data\n",
    "# Query to retrieve user data\n",
    "user_query = \"SELECT * FROM users\"\n",
    "\n",
    "# Query to count the number of tracks added by each user\n",
    "tracks_per_user_query = \"\"\"\n",
    "SELECT U.user_name, COUNT(UT.track_id) AS tracks_added\n",
    "FROM UserTracks UT\n",
    "INNER JOIN Users U ON UT.user_id = U.user_id\n",
    "GROUP BY UT.user_id, U.user_name\n",
    "\"\"\""
   ]
  },
  {
   "cell_type": "code",
   "execution_count": 4,
   "metadata": {},
   "outputs": [],
   "source": [
    "# Create Pandas DataFrames from the retrieved data\n",
    "\n",
    "users_df = pd.read_sql(user_query, engine)\n",
    "tracks_per_user_df = pd.read_sql(tracks_per_user_query, engine)"
   ]
  },
  {
   "cell_type": "code",
   "execution_count": 5,
   "metadata": {},
   "outputs": [
    {
     "data": {
      "text/html": [
       "<div>\n",
       "<style scoped>\n",
       "    .dataframe tbody tr th:only-of-type {\n",
       "        vertical-align: middle;\n",
       "    }\n",
       "\n",
       "    .dataframe tbody tr th {\n",
       "        vertical-align: top;\n",
       "    }\n",
       "\n",
       "    .dataframe thead th {\n",
       "        text-align: right;\n",
       "    }\n",
       "</style>\n",
       "<table border=\"1\" class=\"dataframe\">\n",
       "  <thead>\n",
       "    <tr style=\"text-align: right;\">\n",
       "      <th></th>\n",
       "      <th>user_name</th>\n",
       "      <th>tracks_added</th>\n",
       "    </tr>\n",
       "  </thead>\n",
       "  <tbody>\n",
       "    <tr>\n",
       "      <th>0</th>\n",
       "      <td>Bnooru</td>\n",
       "      <td>17</td>\n",
       "    </tr>\n",
       "    <tr>\n",
       "      <th>1</th>\n",
       "      <td>drima</td>\n",
       "      <td>5</td>\n",
       "    </tr>\n",
       "    <tr>\n",
       "      <th>2</th>\n",
       "      <td>Victor Jimenez</td>\n",
       "      <td>141</td>\n",
       "    </tr>\n",
       "    <tr>\n",
       "      <th>3</th>\n",
       "      <td>André Moura</td>\n",
       "      <td>206</td>\n",
       "    </tr>\n",
       "    <tr>\n",
       "      <th>4</th>\n",
       "      <td>Mateus Siqueira</td>\n",
       "      <td>9</td>\n",
       "    </tr>\n",
       "  </tbody>\n",
       "</table>\n",
       "</div>"
      ],
      "text/plain": [
       "         user_name  tracks_added\n",
       "0           Bnooru            17\n",
       "1            drima             5\n",
       "2   Victor Jimenez           141\n",
       "3      André Moura           206\n",
       "4  Mateus Siqueira             9"
      ]
     },
     "execution_count": 5,
     "metadata": {},
     "output_type": "execute_result"
    }
   ],
   "source": [
    "tracks_per_user_df.head()"
   ]
  },
  {
   "cell_type": "code",
   "execution_count": 6,
   "metadata": {},
   "outputs": [],
   "source": [
    "# Perfom user-related analysis\n",
    "# Count the number of users\n",
    "num_users = users_df.shape[0]"
   ]
  },
  {
   "cell_type": "code",
   "execution_count": 7,
   "metadata": {},
   "outputs": [],
   "source": [
    "# Find users who have added the most tracks\n",
    "top_users = tracks_per_user_df.nlargest(5, 'tracks_added')"
   ]
  },
  {
   "cell_type": "code",
   "execution_count": 8,
   "metadata": {},
   "outputs": [],
   "source": [
    "# Calculate the average number of tracks added per user\n",
    "average_tracks_per_user = tracks_per_user_df['tracks_added'].mean()"
   ]
  },
  {
   "cell_type": "code",
   "execution_count": 9,
   "metadata": {},
   "outputs": [
    {
     "name": "stdout",
     "output_type": "stream",
     "text": [
      "Number of users: 19\n",
      "Top users by tracks added:\n",
      "                 user_name  tracks_added\n",
      "18                   Vitor           416\n",
      "17  Pedro Henrique Fonseca           386\n",
      "3              André Moura           206\n",
      "12           Fabio Zotesso           206\n",
      "2           Victor Jimenez           141\n",
      "Average tracks added per user: 93.58\n"
     ]
    }
   ],
   "source": [
    "# Display the results\n",
    "print(f\"Number of users: {num_users}\")\n",
    "print(\"Top users by tracks added:\")\n",
    "print(top_users)\n",
    "print(f\"Average tracks added per user: {average_tracks_per_user:.2f}\")"
   ]
  },
  {
   "cell_type": "code",
   "execution_count": 10,
   "metadata": {},
   "outputs": [
    {
     "name": "stderr",
     "output_type": "stream",
     "text": [
      "c:\\Users\\phenr\\AppData\\Local\\Programs\\Python\\Python311\\Lib\\site-packages\\seaborn\\_oldcore.py:1498: FutureWarning: is_categorical_dtype is deprecated and will be removed in a future version. Use isinstance(dtype, CategoricalDtype) instead\n",
      "  if pd.api.types.is_categorical_dtype(vector):\n",
      "c:\\Users\\phenr\\AppData\\Local\\Programs\\Python\\Python311\\Lib\\site-packages\\seaborn\\_oldcore.py:1498: FutureWarning: is_categorical_dtype is deprecated and will be removed in a future version. Use isinstance(dtype, CategoricalDtype) instead\n",
      "  if pd.api.types.is_categorical_dtype(vector):\n",
      "c:\\Users\\phenr\\AppData\\Local\\Programs\\Python\\Python311\\Lib\\site-packages\\seaborn\\_oldcore.py:1498: FutureWarning: is_categorical_dtype is deprecated and will be removed in a future version. Use isinstance(dtype, CategoricalDtype) instead\n",
      "  if pd.api.types.is_categorical_dtype(vector):\n"
     ]
    },
    {
     "data": {
      "image/png": "[encoded data removed]",
      "text/plain": [
       "<Figure size 1200x600 with 1 Axes>"
      ]
     },
     "metadata": {},
     "output_type": "display_data"
    }
   ],
   "source": [
    "# plot most active users by number of tracks added\n",
    "# color palette\n",
    "plt.style.use(\"dark_background\")\n",
    "palette = sns.color_palette(\"RdPu\", 10)[::-1]\n",
    "sns.set_palette(palette)\n",
    "sns.color_palette(\"rocket\")\n",
    "\n",
    "# create a figure with size 12x6\n",
    "plt.figure(figsize=(12, 6))\n",
    "\n",
    "# set labels and titles\n",
    "plt.title(\"Top 5 users by number of tracks added\", fontsize=16, fontweight=\"bold\")\n",
    "plt.xlabel(\"Número de músicas\", fontsize=14, fontweight=\"bold\")\n",
    "plt.ylabel(\"Artista\", fontsize=14, fontweight=\"bold\")\n",
    "\n",
    "# Create a horizontal bar plot \n",
    "barplot = sns.barplot(\n",
    "        x=top_users[\"tracks_added\"],\n",
    "        y=top_users[\"user_name\"],\n",
    "        palette=palette,\n",
    "        edgecolor=\"black\",\n",
    "        orient=\"h\",\n",
    ")\n",
    "\n",
    "# Add the total number of tracks inside the bars\n",
    "for i, p in enumerate(barplot.patches):\n",
    "        width = p.get_width()\n",
    "        # Get the RGB color of the bar and convert it to HSV\n",
    "        rgb_color = mcolors.colorConverter.to_rgb(palette[i])\n",
    "        hsv_color = mcolors.rgb_to_hsv(rgb_color)\n",
    "        # If the value/brightness component of the HSV color is less than 0.5, set the text color to white, else set it to black\n",
    "        text_color = 'white' if hsv_color[2] < 0.5 else 'black'\n",
    "        # Add the text inside the bar\n",
    "        plt.text(x = width/2,\n",
    "                y = p.get_y()+(p.get_height()/2), \n",
    "                s = '{:.0f}'.format(width),\n",
    "                va = 'center',\n",
    "                color = text_color,  # Set the text color\n",
    "                fontsize = 14,\n",
    "                fontweight = 'bold')\n",
    "        \n",
    "\n",
    "# Add total of tracks as side information on the graph\n",
    "\n",
    "total_tracks = tracks_per_user_df['tracks_added'].sum()\n",
    "plt.text(\n",
    "        x = 0.98, \n",
    "        y = 0.02, \n",
    "        s = f'Total tracks: {total_tracks}', \n",
    "        transform=plt.gca().transAxes, \n",
    "        fontsize=12, \n",
    "        horizontalalignment='right'\n",
    "        )\n",
    "\n",
    "\n",
    "# adjust the layout of the plot\n",
    "plt.tight_layout()\n",
    "\n",
    "# save the plot as a png file\n",
    "plt.savefig(\"../images/top_users.png\", dpi=300)\n",
    "\n",
    "plt.show()"
   ]
  },
  {
   "cell_type": "code",
   "execution_count": 11,
   "metadata": {},
   "outputs": [],
   "source": [
    "# Close the database connection\n",
    "engine.dispose()"
   ]
  }
 ],
 "metadata": {
  "kernelspec": {
   "display_name": "Python 3",
   "language": "python",
   "name": "python3"
  },
  "language_info": {
   "codemirror_mode": {
    "name": "ipython",
    "version": 3
   },
   "file_extension": ".py",
   "mimetype": "text/x-python",
   "name": "python",
   "nbconvert_exporter": "python",
   "pygments_lexer": "ipython3",
   "version": "3.11.5"
  }
 },
 "nbformat": 4,
 "nbformat_minor": 2
}
